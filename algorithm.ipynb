<VSCode.Cell id="#VSC-40618171" language="python">
myList = [12, 45, 3, 22, 67, 34]
def find_maximum(lst):
    if not lst:
        return None
    maximum = lst[0]
    for num in lst:
        if num > maximum:
            maximum = num
    return maximum

maxnum = find_maximum(myList)
print("The maximum number in the list is:", maxnum)
</VSCode.Cell>
<VSCode.Cell id="#VSC-d89ec624" language="python">
import matplotlib.pyplot as plt
import numpy as np

# 输入规模 n，从 1 到 1000
n = np.linspace(1, 1000, 1000)

# 不同复杂度的函数曲线
O_1 = np.ones_like(n)
O_log_n = np.log2(n)
O_n = n
O_n_log_n = n * np.log2(n)
O_n2 = n**2
O_2n = 2**(n / 100)  # 缩放指数曲线以便显示

# 绘图
plt.figure(figsize=(12, 8))
plt.plot(n, O_1, label='O(1)', linewidth=2)
plt.plot(n, O_log_n, label='O(log n)', linewidth=2)
plt.plot(n, O_n, label='O(n)', linewidth=2)
plt.plot(n, O_n_log_n, label='O(n log n)', linewidth=2)
plt.plot(n, O_n2, label='O(n^2)', linewidth=2)
plt.plot(n, O_2n, label='O(2^n)', linewidth=2)

plt.ylim(0, 10000)
plt.title("不同时间复杂度函数的增长趋势", fontsize=16)
plt.xlabel("输入规模 n", fontsize=14)
plt.ylabel("操作次数（相对）", fontsize=14)
plt.legend()
plt.grid(True)
plt.show()

</VSCode.Cell>